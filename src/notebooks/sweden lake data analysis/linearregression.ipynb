{
 "cells": [
  {
   "cell_type": "code",
   "execution_count": 1,
   "metadata": {},
   "outputs": [],
   "source": [
    "import pandas as pd\n",
    "import numpy as np\n",
    "import matplotlib.pyplot as plt\n",
    "\n",
    "from sklearn.model_selection import train_test_split \n",
    "from sklearn.linear_model import LinearRegression\n",
    "\n",
    "from sklearn import metrics, preprocessing\n",
    "\n",
    "import statsmodels.api as sm\n",
    "from sklearn.model_selection import GridSearchCV\n",
    "from sklearn.pipeline import Pipeline, FeatureUnion\n",
    "from sklearn.linear_model import Lasso, Ridge, SGDRegressor\n",
    "from sklearn.decomposition import PCA\n",
    "from sklearn.preprocessing import PolynomialFeatures\n",
    "from sklearn.metrics import mean_squared_error\n",
    "\n",
    "import seaborn as sb\n",
    "%matplotlib inline"
   ]
  },
  {
   "cell_type": "code",
   "execution_count": 2,
   "metadata": {},
   "outputs": [
    {
     "name": "stdout",
     "output_type": "stream",
     "text": [
      "(145, 11)\n"
     ]
    },
    {
     "data": {
      "text/html": [
       "<div>\n",
       "<style scoped>\n",
       "    .dataframe tbody tr th:only-of-type {\n",
       "        vertical-align: middle;\n",
       "    }\n",
       "\n",
       "    .dataframe tbody tr th {\n",
       "        vertical-align: top;\n",
       "    }\n",
       "\n",
       "    .dataframe thead th {\n",
       "        text-align: right;\n",
       "    }\n",
       "</style>\n",
       "<table border=\"1\" class=\"dataframe\">\n",
       "  <thead>\n",
       "    <tr style=\"text-align: right;\">\n",
       "      <th></th>\n",
       "      <th>Chlorophyll</th>\n",
       "      <th>Date2</th>\n",
       "      <th>Latitude</th>\n",
       "      <th>Longitude</th>\n",
       "      <th>pH</th>\n",
       "      <th>Temperature</th>\n",
       "      <th>P</th>\n",
       "      <th>DissolvedOxygen</th>\n",
       "      <th>ElecticalConductivity</th>\n",
       "      <th>Turbidity</th>\n",
       "      <th>N</th>\n",
       "    </tr>\n",
       "  </thead>\n",
       "  <tbody>\n",
       "    <tr>\n",
       "      <th>count</th>\n",
       "      <td>145.000000</td>\n",
       "      <td>145.000000</td>\n",
       "      <td>145.000000</td>\n",
       "      <td>145.000000</td>\n",
       "      <td>145.000000</td>\n",
       "      <td>145.000000</td>\n",
       "      <td>145.000000</td>\n",
       "      <td>145.000000</td>\n",
       "      <td>145.000000</td>\n",
       "      <td>145.000000</td>\n",
       "      <td>145.000000</td>\n",
       "    </tr>\n",
       "    <tr>\n",
       "      <th>mean</th>\n",
       "      <td>13.198621</td>\n",
       "      <td>188.131034</td>\n",
       "      <td>56.044766</td>\n",
       "      <td>13.359111</td>\n",
       "      <td>7.665034</td>\n",
       "      <td>12.188966</td>\n",
       "      <td>38.070345</td>\n",
       "      <td>10.815172</td>\n",
       "      <td>23.122000</td>\n",
       "      <td>4.266552</td>\n",
       "      <td>1351.724138</td>\n",
       "    </tr>\n",
       "    <tr>\n",
       "      <th>std</th>\n",
       "      <td>7.129769</td>\n",
       "      <td>88.786906</td>\n",
       "      <td>0.211365</td>\n",
       "      <td>0.185720</td>\n",
       "      <td>0.586762</td>\n",
       "      <td>6.568624</td>\n",
       "      <td>73.473811</td>\n",
       "      <td>1.744250</td>\n",
       "      <td>9.903547</td>\n",
       "      <td>2.578800</td>\n",
       "      <td>604.526151</td>\n",
       "    </tr>\n",
       "    <tr>\n",
       "      <th>min</th>\n",
       "      <td>4.100000</td>\n",
       "      <td>14.000000</td>\n",
       "      <td>55.483214</td>\n",
       "      <td>13.040853</td>\n",
       "      <td>6.380000</td>\n",
       "      <td>0.600000</td>\n",
       "      <td>5.000000</td>\n",
       "      <td>6.700000</td>\n",
       "      <td>7.500000</td>\n",
       "      <td>0.900000</td>\n",
       "      <td>410.000000</td>\n",
       "    </tr>\n",
       "    <tr>\n",
       "      <th>25%</th>\n",
       "      <td>6.700000</td>\n",
       "      <td>133.000000</td>\n",
       "      <td>55.892097</td>\n",
       "      <td>13.277489</td>\n",
       "      <td>7.200000</td>\n",
       "      <td>5.500000</td>\n",
       "      <td>18.000000</td>\n",
       "      <td>9.600000</td>\n",
       "      <td>10.900000</td>\n",
       "      <td>2.600000</td>\n",
       "      <td>900.000000</td>\n",
       "    </tr>\n",
       "    <tr>\n",
       "      <th>50%</th>\n",
       "      <td>12.000000</td>\n",
       "      <td>194.000000</td>\n",
       "      <td>56.094148</td>\n",
       "      <td>13.307880</td>\n",
       "      <td>7.660000</td>\n",
       "      <td>12.800000</td>\n",
       "      <td>27.000000</td>\n",
       "      <td>10.600000</td>\n",
       "      <td>25.500000</td>\n",
       "      <td>3.600000</td>\n",
       "      <td>1300.000000</td>\n",
       "    </tr>\n",
       "    <tr>\n",
       "      <th>75%</th>\n",
       "      <td>19.000000</td>\n",
       "      <td>230.000000</td>\n",
       "      <td>56.278749</td>\n",
       "      <td>13.548270</td>\n",
       "      <td>8.100000</td>\n",
       "      <td>18.300000</td>\n",
       "      <td>38.000000</td>\n",
       "      <td>12.000000</td>\n",
       "      <td>29.300000</td>\n",
       "      <td>5.300000</td>\n",
       "      <td>1700.000000</td>\n",
       "    </tr>\n",
       "    <tr>\n",
       "      <th>max</th>\n",
       "      <td>27.000000</td>\n",
       "      <td>349.000000</td>\n",
       "      <td>56.354940</td>\n",
       "      <td>13.976081</td>\n",
       "      <td>9.040000</td>\n",
       "      <td>22.900000</td>\n",
       "      <td>880.000000</td>\n",
       "      <td>15.800000</td>\n",
       "      <td>51.900000</td>\n",
       "      <td>16.000000</td>\n",
       "      <td>4100.000000</td>\n",
       "    </tr>\n",
       "  </tbody>\n",
       "</table>\n",
       "</div>"
      ],
      "text/plain": [
       "       Chlorophyll       Date2    Latitude   Longitude          pH   \n",
       "count   145.000000  145.000000  145.000000  145.000000  145.000000  \\\n",
       "mean     13.198621  188.131034   56.044766   13.359111    7.665034   \n",
       "std       7.129769   88.786906    0.211365    0.185720    0.586762   \n",
       "min       4.100000   14.000000   55.483214   13.040853    6.380000   \n",
       "25%       6.700000  133.000000   55.892097   13.277489    7.200000   \n",
       "50%      12.000000  194.000000   56.094148   13.307880    7.660000   \n",
       "75%      19.000000  230.000000   56.278749   13.548270    8.100000   \n",
       "max      27.000000  349.000000   56.354940   13.976081    9.040000   \n",
       "\n",
       "       Temperature           P  DissolvedOxygen  ElecticalConductivity   \n",
       "count   145.000000  145.000000       145.000000             145.000000  \\\n",
       "mean     12.188966   38.070345        10.815172              23.122000   \n",
       "std       6.568624   73.473811         1.744250               9.903547   \n",
       "min       0.600000    5.000000         6.700000               7.500000   \n",
       "25%       5.500000   18.000000         9.600000              10.900000   \n",
       "50%      12.800000   27.000000        10.600000              25.500000   \n",
       "75%      18.300000   38.000000        12.000000              29.300000   \n",
       "max      22.900000  880.000000        15.800000              51.900000   \n",
       "\n",
       "        Turbidity            N  \n",
       "count  145.000000   145.000000  \n",
       "mean     4.266552  1351.724138  \n",
       "std      2.578800   604.526151  \n",
       "min      0.900000   410.000000  \n",
       "25%      2.600000   900.000000  \n",
       "50%      3.600000  1300.000000  \n",
       "75%      5.300000  1700.000000  \n",
       "max     16.000000  4100.000000  "
      ]
     },
     "execution_count": 2,
     "metadata": {},
     "output_type": "execute_result"
    }
   ],
   "source": [
    "df = pd.read_csv(\"chrolophylldata_with_geocoding_and_weather.csv\")\n",
    "cols = ['Date2','Latitude','Longitude','Chlorophyll', 'pH', 'Temperature', 'P', 'DissolvedOxygen', 'ElecticalConductivity','Turbidity','N']\n",
    "data = df[cols]\n",
    "data = data.dropna()\n",
    "\n",
    "#data=data[data[\"Chlorophyll\"]<=50]\n",
    "\n",
    "col = data.pop(\"Chlorophyll\")\n",
    "data.insert(0, col.name, col)   \n",
    "\n",
    "data = data.query('Chlorophyll < Chlorophyll.quantile(.75)')\n",
    "data = data.query('Chlorophyll > Chlorophyll.quantile(.25)')\n",
    "\n",
    "# data = data.query('P < P.quantile(.75)')\n",
    "# data = data.query('P > P.quantile(.25)')\n",
    "\n",
    "# for c in data.columns:\n",
    "#     data = data.query(f'{c} < {c}.quantile(.75)')\n",
    "#     data = data.query(f'{c} > {c}.quantile(.25)')\n",
    "#     print(data.shape)\n",
    "\n",
    "\n",
    "print(data.shape)\n",
    "data.describe()"
   ]
  },
  {
   "attachments": {},
   "cell_type": "markdown",
   "metadata": {},
   "source": [
    "#### 1.0 Multiple Regression\n",
    "##### Scaling"
   ]
  },
  {
   "cell_type": "code",
   "execution_count": 3,
   "metadata": {},
   "outputs": [
    {
     "name": "stdout",
     "output_type": "stream",
     "text": [
      "     Chlorophyll     Date2  Latitude  Longitude        pH  Temperature   \n",
      "2       0.109170  0.626866  0.700832   0.270848  0.353383     0.914798  \\\n",
      "3       0.563319  0.626866  0.912598   0.285521  0.281955     0.901345   \n",
      "4       0.344978  0.979104  0.469049   0.463998  0.676692     0.215247   \n",
      "6       0.606987  0.352239  0.469049   0.463998  0.687970     0.538117   \n",
      "10      0.606987  0.811940  0.447468   0.542560  0.605263     0.426009   \n",
      "..           ...       ...       ...        ...       ...          ...   \n",
      "139     0.113537  0.635821  0.956697   0.066694  0.278195     0.771300   \n",
      "140     0.183406  0.358209  0.956697   0.066694  0.398496     0.614350   \n",
      "141     0.152838  0.632836  0.956697   0.066694  0.451128     0.865471   \n",
      "143     0.152838  0.376119  0.956697   0.066694  0.308271     0.623318   \n",
      "144     0.257642  0.626866  0.956697   0.066694  0.872180     0.807175   \n",
      "\n",
      "            P  DissolvedOxygen  ElecticalConductivity  Turbidity         N  \n",
      "2    0.026286         0.153846               0.524775   0.135762  0.512195  \n",
      "3    0.020571         0.197802               0.051802   0.152318  0.154472  \n",
      "4    0.037714         0.560440               0.461712   0.278146  0.295393  \n",
      "6    0.019429         0.472527               0.463964   0.271523  0.214092  \n",
      "10   0.051429         0.208791               0.463964   0.271523  0.097561  \n",
      "..        ...              ...                    ...        ...       ...  \n",
      "139  0.017143         0.329670               0.038288   0.139073  0.051491  \n",
      "140  0.011429         0.428571               0.083333   0.172185  0.089431  \n",
      "141  0.013714         0.340659               0.056306   0.178808  0.086721  \n",
      "143  0.005714         0.549451               0.049550   0.000000  0.132791  \n",
      "144  0.018286         0.373626               0.074324   0.423841  0.143631  \n",
      "\n",
      "[79 rows x 11 columns]\n"
     ]
    }
   ],
   "source": [
    "scaler = preprocessing.MinMaxScaler()\n",
    "d = scaler.fit_transform(data)\n",
    "scaled_data = pd.DataFrame(d, columns=data.columns)\n",
    "\n",
    "scaled_data = scaled_data.query('Chlorophyll < Chlorophyll.quantile(.75)')\n",
    "scaled_data = scaled_data.query('Chlorophyll > Chlorophyll.quantile(.25)')\n",
    "\n",
    "print(scaled_data)\n"
   ]
  },
  {
   "cell_type": "code",
   "execution_count": 4,
   "metadata": {},
   "outputs": [
    {
     "name": "stdout",
     "output_type": "stream",
     "text": [
      "(79, 11)\n"
     ]
    },
    {
     "data": {
      "text/html": [
       "<div>\n",
       "<style scoped>\n",
       "    .dataframe tbody tr th:only-of-type {\n",
       "        vertical-align: middle;\n",
       "    }\n",
       "\n",
       "    .dataframe tbody tr th {\n",
       "        vertical-align: top;\n",
       "    }\n",
       "\n",
       "    .dataframe thead th {\n",
       "        text-align: right;\n",
       "    }\n",
       "</style>\n",
       "<table border=\"1\" class=\"dataframe\">\n",
       "  <thead>\n",
       "    <tr style=\"text-align: right;\">\n",
       "      <th></th>\n",
       "      <th>Chlorophyll</th>\n",
       "      <th>Date2</th>\n",
       "      <th>Latitude</th>\n",
       "      <th>Longitude</th>\n",
       "      <th>pH</th>\n",
       "      <th>Temperature</th>\n",
       "      <th>P</th>\n",
       "      <th>DissolvedOxygen</th>\n",
       "      <th>ElecticalConductivity</th>\n",
       "      <th>Turbidity</th>\n",
       "      <th>N</th>\n",
       "    </tr>\n",
       "  </thead>\n",
       "  <tbody>\n",
       "    <tr>\n",
       "      <th>count</th>\n",
       "      <td>79.000000</td>\n",
       "      <td>79.000000</td>\n",
       "      <td>79.000000</td>\n",
       "      <td>79.000000</td>\n",
       "      <td>79.000000</td>\n",
       "      <td>79.000000</td>\n",
       "      <td>79.000000</td>\n",
       "      <td>79.000000</td>\n",
       "      <td>79.000000</td>\n",
       "      <td>79.000000</td>\n",
       "      <td>79.000000</td>\n",
       "    </tr>\n",
       "    <tr>\n",
       "      <th>mean</th>\n",
       "      <td>0.320104</td>\n",
       "      <td>0.534102</td>\n",
       "      <td>0.664266</td>\n",
       "      <td>0.323235</td>\n",
       "      <td>0.472019</td>\n",
       "      <td>0.565306</td>\n",
       "      <td>0.030932</td>\n",
       "      <td>0.421755</td>\n",
       "      <td>0.345290</td>\n",
       "      <td>0.196119</td>\n",
       "      <td>0.234880</td>\n",
       "    </tr>\n",
       "    <tr>\n",
       "      <th>std</th>\n",
       "      <td>0.170726</td>\n",
       "      <td>0.247314</td>\n",
       "      <td>0.229932</td>\n",
       "      <td>0.187686</td>\n",
       "      <td>0.202621</td>\n",
       "      <td>0.278665</td>\n",
       "      <td>0.022816</td>\n",
       "      <td>0.201887</td>\n",
       "      <td>0.223039</td>\n",
       "      <td>0.144298</td>\n",
       "      <td>0.153369</td>\n",
       "    </tr>\n",
       "    <tr>\n",
       "      <th>min</th>\n",
       "      <td>0.087336</td>\n",
       "      <td>0.000000</td>\n",
       "      <td>0.000000</td>\n",
       "      <td>0.000000</td>\n",
       "      <td>0.000000</td>\n",
       "      <td>0.008969</td>\n",
       "      <td>0.000000</td>\n",
       "      <td>0.000000</td>\n",
       "      <td>0.007658</td>\n",
       "      <td>0.000000</td>\n",
       "      <td>0.002710</td>\n",
       "    </tr>\n",
       "    <tr>\n",
       "      <th>25%</th>\n",
       "      <td>0.157205</td>\n",
       "      <td>0.358209</td>\n",
       "      <td>0.469049</td>\n",
       "      <td>0.253025</td>\n",
       "      <td>0.319549</td>\n",
       "      <td>0.374439</td>\n",
       "      <td>0.017143</td>\n",
       "      <td>0.285714</td>\n",
       "      <td>0.076577</td>\n",
       "      <td>0.112583</td>\n",
       "      <td>0.127371</td>\n",
       "    </tr>\n",
       "    <tr>\n",
       "      <th>50%</th>\n",
       "      <td>0.301310</td>\n",
       "      <td>0.623881</td>\n",
       "      <td>0.700832</td>\n",
       "      <td>0.285521</td>\n",
       "      <td>0.451128</td>\n",
       "      <td>0.578475</td>\n",
       "      <td>0.024000</td>\n",
       "      <td>0.373626</td>\n",
       "      <td>0.405405</td>\n",
       "      <td>0.158940</td>\n",
       "      <td>0.241192</td>\n",
       "    </tr>\n",
       "    <tr>\n",
       "      <th>75%</th>\n",
       "      <td>0.475983</td>\n",
       "      <td>0.634328</td>\n",
       "      <td>0.912598</td>\n",
       "      <td>0.542560</td>\n",
       "      <td>0.629699</td>\n",
       "      <td>0.804933</td>\n",
       "      <td>0.040000</td>\n",
       "      <td>0.549451</td>\n",
       "      <td>0.490991</td>\n",
       "      <td>0.248344</td>\n",
       "      <td>0.322493</td>\n",
       "    </tr>\n",
       "    <tr>\n",
       "      <th>max</th>\n",
       "      <td>0.606987</td>\n",
       "      <td>1.000000</td>\n",
       "      <td>0.960768</td>\n",
       "      <td>0.545185</td>\n",
       "      <td>0.947368</td>\n",
       "      <td>1.000000</td>\n",
       "      <td>0.154286</td>\n",
       "      <td>1.000000</td>\n",
       "      <td>0.948198</td>\n",
       "      <td>1.000000</td>\n",
       "      <td>1.000000</td>\n",
       "    </tr>\n",
       "  </tbody>\n",
       "</table>\n",
       "</div>"
      ],
      "text/plain": [
       "       Chlorophyll      Date2   Latitude  Longitude         pH  Temperature   \n",
       "count    79.000000  79.000000  79.000000  79.000000  79.000000    79.000000  \\\n",
       "mean      0.320104   0.534102   0.664266   0.323235   0.472019     0.565306   \n",
       "std       0.170726   0.247314   0.229932   0.187686   0.202621     0.278665   \n",
       "min       0.087336   0.000000   0.000000   0.000000   0.000000     0.008969   \n",
       "25%       0.157205   0.358209   0.469049   0.253025   0.319549     0.374439   \n",
       "50%       0.301310   0.623881   0.700832   0.285521   0.451128     0.578475   \n",
       "75%       0.475983   0.634328   0.912598   0.542560   0.629699     0.804933   \n",
       "max       0.606987   1.000000   0.960768   0.545185   0.947368     1.000000   \n",
       "\n",
       "               P  DissolvedOxygen  ElecticalConductivity  Turbidity          N  \n",
       "count  79.000000        79.000000              79.000000  79.000000  79.000000  \n",
       "mean    0.030932         0.421755               0.345290   0.196119   0.234880  \n",
       "std     0.022816         0.201887               0.223039   0.144298   0.153369  \n",
       "min     0.000000         0.000000               0.007658   0.000000   0.002710  \n",
       "25%     0.017143         0.285714               0.076577   0.112583   0.127371  \n",
       "50%     0.024000         0.373626               0.405405   0.158940   0.241192  \n",
       "75%     0.040000         0.549451               0.490991   0.248344   0.322493  \n",
       "max     0.154286         1.000000               0.948198   1.000000   1.000000  "
      ]
     },
     "execution_count": 4,
     "metadata": {},
     "output_type": "execute_result"
    }
   ],
   "source": [
    "print(scaled_data.shape)\n",
    "scaled_data.describe()\n"
   ]
  },
  {
   "attachments": {},
   "cell_type": "markdown",
   "metadata": {},
   "source": [
    "##### Splitting Data"
   ]
  },
  {
   "cell_type": "code",
   "execution_count": 5,
   "metadata": {},
   "outputs": [
    {
     "name": "stdout",
     "output_type": "stream",
     "text": [
      "Training Set Size: 63\n",
      "Test Set Size: 16\n"
     ]
    }
   ],
   "source": [
    "X_train,X_test,Y_train,Y_test = train_test_split(\n",
    "    scaled_data[['Date2', 'pH','Latitude','Longitude', 'Temperature', 'P', 'DissolvedOxygen', 'ElecticalConductivity','Turbidity','N']],\n",
    "    scaled_data[[\"Chlorophyll\"]],\n",
    "    test_size=0.2,\n",
    "    random_state=0\n",
    "    )\n",
    "print (f\"Training Set Size: {X_train.shape[0]}\")\n",
    "print (f\"Test Set Size: {X_test.shape[0]}\")"
   ]
  },
  {
   "attachments": {},
   "cell_type": "markdown",
   "metadata": {},
   "source": [
    "##### Linear Regression with sklearn"
   ]
  },
  {
   "cell_type": "code",
   "execution_count": 6,
   "metadata": {},
   "outputs": [
    {
     "name": "stdout",
     "output_type": "stream",
     "text": [
      "R-Squared (train): 0.4207244934543062\n",
      "R-Squared (test): 0.043412228028307576\n",
      "Coefficient: [[-0.18846939  0.05325993  0.16754157  0.17858813  0.00581705  1.55363363\n",
      "  -0.04112015  0.4574359   0.33843691 -0.64275015]]\n",
      "Intercept: [0.12406635]\n"
     ]
    }
   ],
   "source": [
    "lr = LinearRegression(fit_intercept=True)\n",
    "pr=lr.fit(X_train,Y_train)\n",
    "print(f'R-Squared (train): {lr.score(X_train, Y_train)}')\n",
    "print(f'R-Squared (test): {lr.score(X_test, Y_test)}')\n",
    "print(f'Coefficient: {lr.coef_}')\n",
    "print(f'Intercept: {lr.intercept_}')"
   ]
  },
  {
   "cell_type": "code",
   "execution_count": 7,
   "metadata": {},
   "outputs": [],
   "source": [
    "pipe = Pipeline([    \n",
    "    # ('scale', preprocessing.StandardScaler()),\n",
    "    ('regr', LinearRegression())\n",
    "])\n",
    "\n",
    "param_grid = [\n",
    "    {\n",
    "        'regr': [Lasso(), Ridge()],\n",
    "        'regr__alpha': np.logspace(-4, 1, 6),\n",
    "    },\n",
    "    {\n",
    "        'regr': [SGDRegressor()],\n",
    "        'regr__alpha': np.logspace(-5, 0, 6),\n",
    "        'regr__max_iter': [500, 1000],\n",
    "    },\n",
    "]\n",
    "# grid = GridSearchCV(pipe, param_grid=param_grid, cv=3, n_jobs=-1, verbose=2)\n",
    "# grid.fit(X_train, Y_train)\n",
    "# print(f'R-Squared (train): {lr.score(X_train, Y_train)}')\n",
    "# print(f'R-Squared (test): {lr.score(X_test, Y_test)}')\n",
    "# print(f'Coefficient: {lr.coef_}')\n",
    "# print(f'Intercept: {lr.intercept_}')"
   ]
  },
  {
   "cell_type": "code",
   "execution_count": 8,
   "metadata": {},
   "outputs": [
    {
     "name": "stdout",
     "output_type": "stream",
     "text": [
      "Fit Parameters:\n",
      "const    0.328273\n",
      "x1      -0.119560\n",
      "x2       0.187736\n",
      "x3       0.005102\n",
      "dtype: float64\n",
      "\n"
     ]
    },
    {
     "data": {
      "text/html": [
       "<table class=\"simpletable\">\n",
       "<caption>OLS Regression Results</caption>\n",
       "<tr>\n",
       "  <th>Dep. Variable:</th>       <td>Chlorophyll</td>   <th>  R-squared:         </th> <td>   0.202</td>\n",
       "</tr>\n",
       "<tr>\n",
       "  <th>Model:</th>                   <td>OLS</td>       <th>  Adj. R-squared:    </th> <td>   0.162</td>\n",
       "</tr>\n",
       "<tr>\n",
       "  <th>Method:</th>             <td>Least Squares</td>  <th>  F-statistic:       </th> <td>   4.981</td>\n",
       "</tr>\n",
       "<tr>\n",
       "  <th>Date:</th>             <td>Sat, 06 May 2023</td> <th>  Prob (F-statistic):</th>  <td>0.00379</td>\n",
       "</tr>\n",
       "<tr>\n",
       "  <th>Time:</th>                 <td>12:17:10</td>     <th>  Log-Likelihood:    </th> <td>  30.376</td>\n",
       "</tr>\n",
       "<tr>\n",
       "  <th>No. Observations:</th>      <td>    63</td>      <th>  AIC:               </th> <td>  -52.75</td>\n",
       "</tr>\n",
       "<tr>\n",
       "  <th>Df Residuals:</th>          <td>    59</td>      <th>  BIC:               </th> <td>  -44.18</td>\n",
       "</tr>\n",
       "<tr>\n",
       "  <th>Df Model:</th>              <td>     3</td>      <th>                     </th>     <td> </td>   \n",
       "</tr>\n",
       "<tr>\n",
       "  <th>Covariance Type:</th>      <td>nonrobust</td>    <th>                     </th>     <td> </td>   \n",
       "</tr>\n",
       "</table>\n",
       "<table class=\"simpletable\">\n",
       "<tr>\n",
       "    <td></td>       <th>coef</th>     <th>std err</th>      <th>t</th>      <th>P>|t|</th>  <th>[0.025</th>    <th>0.975]</th>  \n",
       "</tr>\n",
       "<tr>\n",
       "  <th>const</th> <td>    0.3283</td> <td>    0.019</td> <td>   16.877</td> <td> 0.000</td> <td>    0.289</td> <td>    0.367</td>\n",
       "</tr>\n",
       "<tr>\n",
       "  <th>x1</th>    <td>   -0.1196</td> <td>    0.045</td> <td>   -2.671</td> <td> 0.010</td> <td>   -0.209</td> <td>   -0.030</td>\n",
       "</tr>\n",
       "<tr>\n",
       "  <th>x2</th>    <td>    0.1877</td> <td>    0.067</td> <td>    2.794</td> <td> 0.007</td> <td>    0.053</td> <td>    0.322</td>\n",
       "</tr>\n",
       "<tr>\n",
       "  <th>x3</th>    <td>    0.0051</td> <td>    0.080</td> <td>    0.064</td> <td> 0.949</td> <td>   -0.154</td> <td>    0.165</td>\n",
       "</tr>\n",
       "</table>\n",
       "<table class=\"simpletable\">\n",
       "<tr>\n",
       "  <th>Omnibus:</th>       <td>10.261</td> <th>  Durbin-Watson:     </th> <td>   1.968</td>\n",
       "</tr>\n",
       "<tr>\n",
       "  <th>Prob(Omnibus):</th> <td> 0.006</td> <th>  Jarque-Bera (JB):  </th> <td>   3.126</td>\n",
       "</tr>\n",
       "<tr>\n",
       "  <th>Skew:</th>          <td> 0.084</td> <th>  Prob(JB):          </th> <td>   0.210</td>\n",
       "</tr>\n",
       "<tr>\n",
       "  <th>Kurtosis:</th>      <td> 1.922</td> <th>  Cond. No.          </th> <td>    4.10</td>\n",
       "</tr>\n",
       "</table><br/><br/>Notes:<br/>[1] Standard Errors assume that the covariance matrix of the errors is correctly specified."
      ],
      "text/plain": [
       "<class 'statsmodels.iolib.summary.Summary'>\n",
       "\"\"\"\n",
       "                            OLS Regression Results                            \n",
       "==============================================================================\n",
       "Dep. Variable:            Chlorophyll   R-squared:                       0.202\n",
       "Model:                            OLS   Adj. R-squared:                  0.162\n",
       "Method:                 Least Squares   F-statistic:                     4.981\n",
       "Date:                Sat, 06 May 2023   Prob (F-statistic):            0.00379\n",
       "Time:                        12:17:10   Log-Likelihood:                 30.376\n",
       "No. Observations:                  63   AIC:                            -52.75\n",
       "Df Residuals:                      59   BIC:                            -44.18\n",
       "Df Model:                           3                                         \n",
       "Covariance Type:            nonrobust                                         \n",
       "==============================================================================\n",
       "                 coef    std err          t      P>|t|      [0.025      0.975]\n",
       "------------------------------------------------------------------------------\n",
       "const          0.3283      0.019     16.877      0.000       0.289       0.367\n",
       "x1            -0.1196      0.045     -2.671      0.010      -0.209      -0.030\n",
       "x2             0.1877      0.067      2.794      0.007       0.053       0.322\n",
       "x3             0.0051      0.080      0.064      0.949      -0.154       0.165\n",
       "==============================================================================\n",
       "Omnibus:                       10.261   Durbin-Watson:                   1.968\n",
       "Prob(Omnibus):                  0.006   Jarque-Bera (JB):                3.126\n",
       "Skew:                           0.084   Prob(JB):                        0.210\n",
       "Kurtosis:                       1.922   Cond. No.                         4.10\n",
       "==============================================================================\n",
       "\n",
       "Notes:\n",
       "[1] Standard Errors assume that the covariance matrix of the errors is correctly specified.\n",
       "\"\"\""
      ]
     },
     "execution_count": 8,
     "metadata": {},
     "output_type": "execute_result"
    }
   ],
   "source": [
    "pca = PCA(n_components=3)\n",
    "X_train_pca = pca.fit_transform(X_train)\n",
    "X_train_pca = sm.add_constant(X_train_pca)\n",
    "smmodel = sm.OLS(Y_train,X_train_pca).fit()\n",
    "print(\"Fit Parameters:\")\n",
    "print(smmodel.params)\n",
    "print()\n",
    "smmodel.summary()"
   ]
  },
  {
   "attachments": {},
   "cell_type": "markdown",
   "metadata": {},
   "source": [
    "##### Predict"
   ]
  },
  {
   "cell_type": "code",
   "execution_count": 9,
   "metadata": {},
   "outputs": [
    {
     "data": {
      "text/plain": [
       "<matplotlib.legend.Legend at 0x1a6c2253690>"
      ]
     },
     "execution_count": 9,
     "metadata": {},
     "output_type": "execute_result"
    },
    {
     "data": {
      "image/png": "[encoded data removed]",
      "text/plain": [
       "<Figure size 640x480 with 1 Axes>"
      ]
     },
     "metadata": {},
     "output_type": "display_data"
    }
   ],
   "source": [
    "X_test_pca = pca.fit_transform(X_test)\n",
    "X_test_pca = sm.add_constant(X_test_pca)\n",
    "\n",
    "Y_pred = pr.predict(X_test )\n",
    "plt.scatter(Y_test,Y_pred,color='gray', label='predicted')\n",
    "plt.plot(Y_test,Y_test,color='blue', linewidth=3, label='actual')\n",
    "plt.plot(Y_test,Y_test*1.1,color='red', linewidth=1.5, label='actual +- 20%')\n",
    "plt.plot(Y_test,Y_test*0.9,color='red', linewidth=1.5 )\n",
    "plt.title('Chrlorophyll Predicted vs Actual (Linear Regression)')  \n",
    "plt.xlabel('Chrlorophyll Actual ')  \n",
    "plt.ylabel('Chrlorophyll Predicted ')  \n",
    "plt.legend(loc=\"upper left\")"
   ]
  },
  {
   "cell_type": "code",
   "execution_count": 10,
   "metadata": {},
   "outputs": [
    {
     "name": "stdout",
     "output_type": "stream",
     "text": [
      "[[ 1.01351316e-10  6.12364017e+01  1.22307031e+01  9.95768733e+01\n",
      "   3.13527324e+01  1.24202301e+01  8.29181321e+01  2.59504212e+01\n",
      "   5.07698429e+01 -1.13254160e+01 -9.25982511e+01  7.89265390e+00\n",
      "  -2.78100610e+01 -8.41700387e+01 -5.95926904e+01  2.49919091e+01\n",
      "  -6.15955751e+01  1.94257616e+01 -1.13575647e+01  9.45018880e-01\n",
      "   1.79589080e+01  1.75925142e+01  1.44874145e+00 -1.51764169e+01\n",
      "  -3.32054292e+00  3.95922842e+01 -3.78466710e+01  1.41475791e+01\n",
      "  -4.16803122e+00  1.97803349e+01 -1.05636275e+01  3.35864991e+01\n",
      "  -4.04714477e+01 -1.46886534e+02 -4.78755152e+01 -1.93863637e+01\n",
      "  -6.87830811e+00  6.22809297e+01  1.68033933e+00 -3.12752061e+01\n",
      "  -1.12846436e-01 -1.43311519e+01  2.13085728e+00  1.91938838e+01\n",
      "   5.68898285e+01  3.08483295e+00  5.91105561e+01  1.80844329e+01\n",
      "  -1.60501839e+01  1.48735729e+01  9.20693304e+00 -3.81349551e+01\n",
      "   9.76438822e+01 -5.69618021e+01 -2.61627724e+01 -8.14774084e+01\n",
      "   1.05569030e+01 -2.52852720e+01  8.81789247e+00  1.16021200e+01\n",
      "  -1.20262191e+01 -1.97201417e+01 -1.77453104e+01 -1.14045718e+01\n",
      "   4.11263929e+01  9.62974429e+00]]\n"
     ]
    },
    {
     "data": {
      "text/plain": [
       "2.972598454103872e-14"
      ]
     },
     "execution_count": 10,
     "metadata": {},
     "output_type": "execute_result"
    }
   ],
   "source": [
    "degree=2\n",
    "poly_model = PolynomialFeatures(degree=degree)\n",
    "poly_x_values = poly_model.fit_transform(X_train)\n",
    "poly_model.fit(poly_x_values, Y_train)\n",
    "regression_model = LinearRegression()\n",
    "regression_model.fit(poly_x_values, Y_train)\n",
    "y_pred = regression_model.predict(poly_x_values)\n",
    "print(regression_model.coef_)\n",
    "mean_squared_error(Y_train, y_pred, squared=False)\n",
    "\n"
   ]
  },
  {
   "cell_type": "code",
   "execution_count": 11,
   "metadata": {},
   "outputs": [
    {
     "data": {
      "text/plain": [
       "<matplotlib.legend.Legend at 0x1a6c2287890>"
      ]
     },
     "execution_count": 11,
     "metadata": {},
     "output_type": "execute_result"
    },
    {
     "data": {
      "image/png": "[encoded data removed]",
      "text/plain": [
       "<Figure size 640x480 with 1 Axes>"
      ]
     },
     "metadata": {},
     "output_type": "display_data"
    }
   ],
   "source": [
    "poly_x_values = poly_model.fit_transform(X_train)\n",
    "poly_model.fit(poly_x_values, Y_train)\n",
    "Y_pred = regression_model.predict(poly_x_values )\n",
    "plt.scatter(Y_train,Y_pred,color='gray', label='predicted')\n",
    "plt.plot(Y_train,Y_train,color='blue', linewidth=3, label='actual')\n",
    "plt.plot(Y_train,Y_train*1.1,color='red', linewidth=1.5, label='actual +- 10%')\n",
    "plt.plot(Y_train,Y_train*0.9,color='red', linewidth=1.5 )\n",
    "plt.title('Chrlorophyll Predicted vs Actual (Linear Regression)')  \n",
    "plt.xlabel('Chrlorophyll Actual ')  \n",
    "plt.ylabel('Chrlorophyll Predicted ')  \n",
    "plt.legend(loc=\"upper left\")"
   ]
  },
  {
   "cell_type": "code",
   "execution_count": 12,
   "metadata": {},
   "outputs": [
    {
     "data": {
      "text/plain": [
       "<matplotlib.legend.Legend at 0x1a6c2320250>"
      ]
     },
     "execution_count": 12,
     "metadata": {},
     "output_type": "execute_result"
    },
    {
     "data": {
      "image/png": "[encoded data removed]",
      "text/plain": [
       "<Figure size 640x480 with 1 Axes>"
      ]
     },
     "metadata": {},
     "output_type": "display_data"
    }
   ],
   "source": [
    "poly_x_values = poly_model.fit_transform(X_test)\n",
    "poly_model.fit(poly_x_values, Y_test)\n",
    "Y_pred = regression_model.predict(poly_x_values )\n",
    "plt.scatter(Y_test,Y_pred,color='gray', label='predicted')\n",
    "plt.plot(Y_test,Y_test,color='blue', linewidth=3, label='actual')\n",
    "plt.plot(Y_test,Y_test*1.1,color='red', linewidth=1.5, label='actual +- 10%')\n",
    "plt.plot(Y_test,Y_test*0.9,color='red', linewidth=1.5 )\n",
    "plt.title('Chrlorophyll Predicted vs Actual (Linear Regression)')  \n",
    "plt.xlabel('Chrlorophyll Actual ')  \n",
    "plt.ylabel('Chrlorophyll Predicted ')  \n",
    "plt.legend(loc=\"upper left\")"
   ]
  }
 ],
 "metadata": {
  "kernelspec": {
   "display_name": "venv",
   "language": "python",
   "name": "python3"
  },
  "language_info": {
   "codemirror_mode": {
    "name": "ipython",
    "version": 3
   },
   "file_extension": ".py",
   "mimetype": "text/x-python",
   "name": "python",
   "nbconvert_exporter": "python",
   "pygments_lexer": "ipython3",
   "version": "3.11.1"
  },
  "orig_nbformat": 4
 },
 "nbformat": 4,
 "nbformat_minor": 2
}
