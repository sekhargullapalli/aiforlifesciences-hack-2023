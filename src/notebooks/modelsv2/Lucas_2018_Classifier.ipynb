{
  "cells": [
    {
      "cell_type": "code",
      "execution_count": 24,
      "metadata": {
        "id": "HYaRSQJTeFFq"
      },
      "outputs": [],
      "source": [
        "import pandas as pd\n",
        "import numpy as np\n",
        "import matplotlib.pyplot as plt"
      ]
    },
    {
      "cell_type": "code",
      "execution_count": 25,
      "metadata": {
        "id": "9O8r8rnUeFFu"
      },
      "outputs": [],
      "source": [
        "df=pd.read_excel('../LUCAS-SOIL-2018.xls')\n",
        "target = 'LU1_Desc'"
      ]
    },
    {
      "cell_type": "code",
      "execution_count": 26,
      "metadata": {
        "colab": {
          "base_uri": "https://localhost:8080/"
        },
        "id": "1OEIv_O7eFFv",
        "outputId": "2c4dc7c4-bcb3-44fa-d59a-0c306e89b2cc"
      },
      "outputs": [
        {
          "data": {
            "text/plain": [
              "(18984, 27)"
            ]
          },
          "execution_count": 26,
          "metadata": {},
          "output_type": "execute_result"
        }
      ],
      "source": [
        "#First filter the points only for Sweden\n",
        "#df = df[df['NUTS_0']=='SE']\n",
        "df.shape"
      ]
    },
    {
      "cell_type": "code",
      "execution_count": 27,
      "metadata": {
        "colab": {
          "base_uri": "https://localhost:8080/"
        },
        "id": "9GA7wi4geFFx",
        "outputId": "2c657e3a-7708-4c00-c131-7247c9487ca0"
      },
      "outputs": [],
      "source": [
        "for col in ['P', 'N', 'K']:\n",
        "    df.loc[df[col]=='< LOD', col] = np.nan\n",
        "    df.loc[df[col]=='<0.0', col] = np.nan\n",
        "    df[col]=df[col].astype(float)\n",
        "for col in ['OC','CaCO3','OC (20-30 cm)','CaCO3 (20-30 cm)']:\n",
        "    df.loc[df[col]=='< LOD', col] = np.nan\n",
        "    df.loc[df[col]=='<  LOD', col] = np.nan\n",
        "    df.loc[df[col]=='<0.0', col] = np.nan\n",
        "    df[col]=df[col].astype(float)\n",
        "\n",
        "for col in ['NUTS_0','NUTS_1','NUTS_2','NUTS_3','LC','LU','LC0_Desc','LC1_Desc','LU1_Desc']:\n",
        "    df[col]=df[col].astype('category')\n",
        "cols = df.columns\n",
        "for c in cols:\n",
        "    if df[c].dtype == 'object':\n",
        "        df[c] = df[c].str.strip()"
      ]
    },
    {
      "cell_type": "code",
      "execution_count": 28,
      "metadata": {
        "colab": {
          "base_uri": "https://localhost:8080/",
          "height": 236
        },
        "id": "wxkKga7qeFF0",
        "outputId": "97ef8884-f7c5-408e-c6ba-9fc5181a21e5"
      },
      "outputs": [],
      "source": [
        "df['SURVEY_DATE']=pd.to_datetime(df['SURVEY_DATE'], format='%d/%m/%y')"
      ]
    },
    {
      "cell_type": "code",
      "execution_count": 29,
      "metadata": {
        "colab": {
          "base_uri": "https://localhost:8080/"
        },
        "id": "BQ3F2MjxeFF1",
        "outputId": "26fed6ab-f23a-4b5e-ec96-a62f47ff1c37"
      },
      "outputs": [],
      "source": [
        "cols = df.columns.tolist()\n",
        "for index, c in enumerate(cols):\n",
        "    cols[index] = c.replace(' ', '_')\n",
        "df.columns = cols"
      ]
    },
    {
      "cell_type": "code",
      "execution_count": 30,
      "metadata": {
        "colab": {
          "base_uri": "https://localhost:8080/",
          "height": 236
        },
        "id": "PBFkvCu_mhTU",
        "outputId": "724c04ea-14f2-4d27-d3d9-2b48e7de0d05"
      },
      "outputs": [],
      "source": [
        "from sklearn.preprocessing import LabelEncoder\n",
        "\n",
        "# Assuming your DataFrame is named df\n",
        "df_encoded = df.copy()  # Create a copy to avoid modifying the original DataFrame\n",
        "\n",
        "# Initialize LabelEncoder\n",
        "label_encoder = LabelEncoder()\n",
        "\n",
        "# Iterate through columns and apply label encoding\n",
        "for column in df_encoded.columns:\n",
        "    if df_encoded[column].dtype.name == 'category':\n",
        "        df_encoded[column] = label_encoder.fit_transform(df_encoded[column])"
      ]
    },
    {
      "cell_type": "code",
      "execution_count": 31,
      "metadata": {},
      "outputs": [
        {
          "name": "stdout",
          "output_type": "stream",
          "text": [
            "{'Abandoned industrial areas': 0, 'Abandoned residential areas': 1, 'Abandoned transport areas': 2, 'Agriculture (excluding fallow land and kitchen gardens)': 3, 'Amenities, museum, leisure (e.g. parks, botanical gardens)': 4, 'Commerce': 5, 'Community services': 6, 'Construction': 7, 'Electricity, gas and thermal power distribution': 8, 'Energy production': 9, 'Fallow land': 10, 'Financial, professional and information services': 11, 'Forestry': 12, 'Kitchen gardens': 13, 'Logistics and storage': 14, 'Mining and quarrying': 15, 'Other abandoned areas': 16, 'Other primary production': 17, 'Protection infrastructures': 18, 'Railway transport': 19, 'Residential': 20, 'Road transport': 21, 'Semi-natural and natural areas not in use': 22, 'Sport': 23, 'Water supply and treatment': 24, 'Water transport': 25}\n"
          ]
        }
      ],
      "source": [
        "label_encoder.fit(df[target])\n",
        "le_name_mapping = dict(zip(label_encoder.classes_, label_encoder.transform(label_encoder.classes_)))\n",
        "print(le_name_mapping)"
      ]
    },
    {
      "cell_type": "code",
      "execution_count": 32,
      "metadata": {
        "colab": {
          "base_uri": "https://localhost:8080/",
          "height": 264
        },
        "id": "jDOdPE1IPjlS",
        "outputId": "e2132c1e-6509-461e-f1ec-bd880262413c"
      },
      "outputs": [],
      "source": [
        "# List of columns to drop\n",
        "columns_to_drop = ['OC_(20-30_cm)', 'CaCO3_(20-30_cm)', 'Ox_Al', 'Ox_Fe']\n",
        "\n",
        "# Dropping the specified columns\n",
        "df_encoded = df_encoded.drop(columns=columns_to_drop)"
      ]
    },
    {
      "cell_type": "code",
      "execution_count": 33,
      "metadata": {
        "colab": {
          "base_uri": "https://localhost:8080/",
          "height": 392
        },
        "id": "MGH9vHHyNqWM",
        "outputId": "7ac1a973-5615-4216-cfa1-eb91417750a7"
      },
      "outputs": [],
      "source": [
        "import numpy as np\n",
        "\n",
        "# Assuming df_encoded is your DataFrame\n",
        "# Replace NaN values with 0 in the 'P' column\n",
        "df_encoded['P'] = df_encoded['P'].replace(np.nan, 0).astype(float)"
      ]
    },
    {
      "cell_type": "code",
      "execution_count": 34,
      "metadata": {
        "colab": {
          "base_uri": "https://localhost:8080/",
          "height": 236
        },
        "id": "5XUYsDv1XNug",
        "outputId": "3eb9b213-9763-4d2f-964d-5500af6d28d8"
      },
      "outputs": [],
      "source": [
        "df_encoded['CaCO3'] = df_encoded['CaCO3'].replace(np.nan, 0).astype(float)"
      ]
    },
    {
      "cell_type": "code",
      "execution_count": 35,
      "metadata": {},
      "outputs": [
        {
          "name": "stdout",
          "output_type": "stream",
          "text": [
            "(18984, 23)\n",
            "(18900, 23)\n"
          ]
        }
      ],
      "source": [
        "print(df_encoded.shape)\n",
        "df_encoded=df_encoded.dropna()\n",
        "print(df_encoded.shape)"
      ]
    },
    {
      "cell_type": "code",
      "execution_count": 36,
      "metadata": {},
      "outputs": [
        {
          "name": "stdout",
          "output_type": "stream",
          "text": [
            "Depth                  object\n",
            "POINTID                 int64\n",
            "pH_CaCl2              float64\n",
            "pH_H2O                float64\n",
            "EC                    float64\n",
            "OC                    float64\n",
            "CaCO3                 float64\n",
            "P                     float64\n",
            "N                     float64\n",
            "K                     float64\n",
            "NUTS_0                  int32\n",
            "NUTS_1                  int32\n",
            "NUTS_2                  int32\n",
            "NUTS_3                  int32\n",
            "TH_LAT                float64\n",
            "TH_LONG               float64\n",
            "SURVEY_DATE    datetime64[ns]\n",
            "Elev                    int64\n",
            "LC                      int32\n",
            "LU                      int32\n",
            "LC0_Desc              float64\n",
            "LC1_Desc                int32\n",
            "LU1_Desc                int32\n",
            "dtype: object\n"
          ]
        }
      ],
      "source": [
        "df_encoded['LC0_Desc']=df_encoded['LC0_Desc'].astype(float)\n",
        "print(df_encoded.dtypes)"
      ]
    },
    {
      "cell_type": "code",
      "execution_count": null,
      "metadata": {
        "colab": {
          "base_uri": "https://localhost:8080/"
        },
        "id": "XZuBrG9hnQwA",
        "outputId": "d44d51b1-88e9-4fab-cf2e-9b42fedad49b"
      },
      "outputs": [],
      "source": [
        "from sklearn.model_selection import train_test_split\n",
        "from xgboost import XGBClassifier\n",
        "from sklearn.metrics import accuracy_score, classification_report\n",
        "from sklearn.ensemble import RandomForestClassifier\n",
        "from sklearn.pipeline import Pipeline\n",
        "from sklearn.preprocessing import StandardScaler\n",
        "\n",
        "\n",
        "\n",
        "# Selecting features and target variable\n",
        "#features = ['pH_CaCl2', 'pH_H2O', 'EC', 'OC', 'CaCO3', 'P', 'N', 'K']\n",
        "\n",
        "# Use LC0_Desc for predicting LU1_Desc\n",
        "features = ['pH_CaCl2', 'pH_H2O', 'EC', 'OC', 'CaCO3', 'P', 'N', 'K', 'LC0_Desc']\n",
        "X = df_encoded[features]\n",
        "y = df_encoded[target]\n",
        "\n",
        "# Splitting the data into training and testing sets\n",
        "X_train, X_test, y_train, y_test = train_test_split(X, y, test_size=0.1, random_state=42)\n",
        "\n",
        "# Initializing XGBoost classifier\n",
        "#model = XGBClassifier()\n",
        "#model = RandomForestClassifier()\n",
        "\n",
        "\n",
        "# Training the model\n",
        "#model.fit(X_train, y_train)\n",
        "\n",
        "#Create pipe and fit\n",
        "pipe = Pipeline([('scaler', StandardScaler()),\n",
        "                ('clr', RandomForestClassifier())])\n",
        "\n",
        "pipe.fit(X_train, y_train)\n",
        "# Making predictions on the test set\n",
        "#predictions = model.predict(X_test)\n",
        "predictions = pipe.predict(X_test)\n",
        "\n",
        "# Evaluating the model\n",
        "accuracy = accuracy_score(y_test, predictions)\n",
        "print(f'Accuracy: {accuracy}')\n",
        "print('\\nClassification Report:\\n', classification_report(y_test, predictions))\n"
      ]
    },
    {
      "cell_type": "code",
      "execution_count": null,
      "metadata": {
        "colab": {
          "base_uri": "https://localhost:8080/"
        },
        "id": "B8huVbeUoR1H",
        "outputId": "4356e7b3-2221-4217-f367-ffac2324a1d3"
      },
      "outputs": [],
      "source": [
        "#saving the built model\n",
        "#model.save_model(f'{target}.model')\n",
        "\n",
        "# import joblib\n",
        "# joblib.dump(pipe,f'{target}.joblib')\n"
      ]
    },
    {
      "cell_type": "code",
      "execution_count": null,
      "metadata": {
        "id": "welgUyuGdNFQ"
      },
      "outputs": [],
      "source": [
        "from skl2onnx import convert_sklearn\n",
        "from skl2onnx.common.data_types import FloatTensorType, Int64TensorType\n",
        "from skl2onnx import to_onnx\n",
        "\n",
        "# Disable zipmap as it is not supported in BigQuery ML.\n",
        "options = {id(pipe): {'zipmap': False}}\n",
        "\n",
        "initial_types = [\n",
        "   ('pH_CaCl2', FloatTensorType([None, 1])),\n",
        "   ('pH_H2O', FloatTensorType([None, 1])),\n",
        "   ('EC', FloatTensorType([None, 1])),\n",
        "   ('OC', FloatTensorType([None, 1])),\n",
        "   ('CaCO3', FloatTensorType([None, 1])),\n",
        "   ('P', FloatTensorType([None, 1])),\n",
        "   ('N', FloatTensorType([None, 1])),\n",
        "   ('K', FloatTensorType([None, 1])),\n",
        "   ('LC0_Desc', FloatTensorType([None, 1]))   \n",
        "]\n",
        "\n",
        "# Convert the model.\n",
        "model_onnx = convert_sklearn(\n",
        "   pipe, 'pipeline_rf', initial_types=initial_types, options=options\n",
        ")\n",
        "onnxFileName = f'{target}_ONNX.onnx'\n",
        "onnxCompressedFileName = f'{target}_ONNX.zip'\n",
        "with open(onnxFileName, \"wb\") as f:\n",
        "    f.write(model_onnx.SerializeToString())"
      ]
    },
    {
      "cell_type": "code",
      "execution_count": null,
      "metadata": {},
      "outputs": [],
      "source": [
        "from zipfile import *\n",
        "with open(onnxFileName, \"wb\") as f:\n",
        "    f.write(model_onnx.SerializeToString())\n",
        "ZipFile(onnxCompressedFileName, \"w\", ZIP_DEFLATED).write(onnxFileName)"
      ]
    }
  ],
  "metadata": {
    "colab": {
      "provenance": []
    },
    "kernelspec": {
      "display_name": ".venv",
      "language": "python",
      "name": "python3"
    },
    "language_info": {
      "codemirror_mode": {
        "name": "ipython",
        "version": 3
      },
      "file_extension": ".py",
      "mimetype": "text/x-python",
      "name": "python",
      "nbconvert_exporter": "python",
      "pygments_lexer": "ipython3",
      "version": "3.11.1"
    }
  },
  "nbformat": 4,
  "nbformat_minor": 0
}
