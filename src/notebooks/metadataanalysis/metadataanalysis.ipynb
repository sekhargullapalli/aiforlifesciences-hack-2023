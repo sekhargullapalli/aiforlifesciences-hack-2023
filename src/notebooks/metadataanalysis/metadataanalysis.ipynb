{
 "cells": [
  {
   "cell_type": "code",
   "execution_count": 1,
   "metadata": {},
   "outputs": [],
   "source": [
    "import pandas as pd"
   ]
  },
  {
   "cell_type": "markdown",
   "metadata": {},
   "source": [
    "#### Loading and merging metadata files"
   ]
  },
  {
   "cell_type": "code",
   "execution_count": 11,
   "metadata": {},
   "outputs": [],
   "source": [
    "cols = ['Run','BioSample','Collection_Date','Depth','elev','Experiment','geo_loc_name_country','geo_loc_name','lat_lon','version','Sample Name','SRA Study','LibraryLayout','Library Name']\n",
    "dfswiss = pd.read_csv('PRJNA952168_metadata.csv', usecols=cols)\n",
    "dfvigo = pd.read_csv('PRJNA985135_metadata.csv', usecols=cols)\n",
    "dfmeta = pd.concat([dfswiss, dfvigo])\n",
    "# print(dfswiss.shape)\n",
    "# print(dfvigo.shape)\n",
    "# print(dfswiss.head(5))\n",
    "# print(dfvigo.head(5))\n",
    "# print(dfmeta.shape)\n",
    "# print(dfmeta.head(5))"
   ]
  },
  {
   "cell_type": "code",
   "execution_count": 12,
   "metadata": {},
   "outputs": [
    {
     "name": "stdout",
     "output_type": "stream",
     "text": [
      "['PAIRED' 'SINGLE']\n"
     ]
    }
   ],
   "source": [
    "print(dfmeta.LibraryLayout.unique())"
   ]
  }
 ],
 "metadata": {
  "kernelspec": {
   "display_name": ".venv",
   "language": "python",
   "name": "python3"
  },
  "language_info": {
   "codemirror_mode": {
    "name": "ipython",
    "version": 3
   },
   "file_extension": ".py",
   "mimetype": "text/x-python",
   "name": "python",
   "nbconvert_exporter": "python",
   "pygments_lexer": "ipython3",
   "version": "3.11.5"
  }
 },
 "nbformat": 4,
 "nbformat_minor": 2
}
