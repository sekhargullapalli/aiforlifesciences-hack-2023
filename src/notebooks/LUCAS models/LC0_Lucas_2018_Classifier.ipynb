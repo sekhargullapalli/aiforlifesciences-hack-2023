{
  "cells": [
    {
      "cell_type": "code",
      "execution_count": 1,
      "metadata": {
        "id": "HYaRSQJTeFFq"
      },
      "outputs": [],
      "source": [
        "import pandas as pd\n",
        "import numpy as np\n",
        "import matplotlib.pyplot as plt"
      ]
    },
    {
      "cell_type": "code",
      "source": [
        "#!pip install skl2onnx"
      ],
      "metadata": {
        "id": "A0Zui9T6FqX1"
      },
      "execution_count": 2,
      "outputs": []
    },
    {
      "cell_type": "code",
      "source": [
        "from google.colab import drive\n",
        "drive.mount('/content/drive')"
      ],
      "metadata": {
        "colab": {
          "base_uri": "https://localhost:8080/"
        },
        "id": "igZ2e1GdFtVy",
        "outputId": "04a8be28-050f-469e-a8e2-02df84b68c61"
      },
      "execution_count": 3,
      "outputs": [
        {
          "output_type": "stream",
          "name": "stdout",
          "text": [
            "Mounted at /content/drive\n"
          ]
        }
      ]
    },
    {
      "cell_type": "code",
      "execution_count": 4,
      "metadata": {
        "id": "9O8r8rnUeFFu"
      },
      "outputs": [],
      "source": [
        "df=pd.read_excel('/content/drive/MyDrive/AI4LS_Data/LUCAS-SOIL-2018.xls')\n",
        "target = 'LC0_Desc'"
      ]
    },
    {
      "cell_type": "code",
      "execution_count": 5,
      "metadata": {
        "colab": {
          "base_uri": "https://localhost:8080/"
        },
        "id": "1OEIv_O7eFFv",
        "outputId": "e767edcb-e407-4513-feef-5ea6e64b7411"
      },
      "outputs": [
        {
          "output_type": "execute_result",
          "data": {
            "text/plain": [
              "(18984, 27)"
            ]
          },
          "metadata": {},
          "execution_count": 5
        }
      ],
      "source": [
        "#First filter the points only for Sweden\n",
        "#df = df[df['NUTS_0']=='SE']\n",
        "df.shape"
      ]
    },
    {
      "cell_type": "code",
      "execution_count": 6,
      "metadata": {
        "id": "9GA7wi4geFFx"
      },
      "outputs": [],
      "source": [
        "for col in ['P', 'N', 'K']:\n",
        "    df.loc[df[col]=='< LOD', col] = np.nan\n",
        "    df.loc[df[col]=='<0.0', col] = np.nan\n",
        "    df[col]=df[col].astype(float)\n",
        "for col in ['OC','CaCO3','OC (20-30 cm)','CaCO3 (20-30 cm)']:\n",
        "    df.loc[df[col]=='< LOD', col] = np.nan\n",
        "    df.loc[df[col]=='<  LOD', col] = np.nan\n",
        "    df.loc[df[col]=='<0.0', col] = np.nan\n",
        "    df[col]=df[col].astype(float)\n",
        "\n",
        "for col in ['NUTS_0','NUTS_1','NUTS_2','NUTS_3','LC','LU','LC0_Desc','LC1_Desc','LU1_Desc']:\n",
        "    df[col]=df[col].astype('category')\n",
        "cols = df.columns\n",
        "for c in cols:\n",
        "    if df[c].dtype == 'object':\n",
        "        df[c] = df[c].str.strip()"
      ]
    },
    {
      "cell_type": "code",
      "execution_count": 7,
      "metadata": {
        "id": "wxkKga7qeFF0"
      },
      "outputs": [],
      "source": [
        "df['SURVEY_DATE']=pd.to_datetime(df['SURVEY_DATE'], format='%d/%m/%y')"
      ]
    },
    {
      "cell_type": "code",
      "execution_count": 8,
      "metadata": {
        "id": "BQ3F2MjxeFF1"
      },
      "outputs": [],
      "source": [
        "cols = df.columns.tolist()\n",
        "for index, c in enumerate(cols):\n",
        "    cols[index] = c.replace(' ', '_')\n",
        "df.columns = cols"
      ]
    },
    {
      "cell_type": "code",
      "execution_count": 9,
      "metadata": {
        "id": "PBFkvCu_mhTU"
      },
      "outputs": [],
      "source": [
        "from sklearn.preprocessing import LabelEncoder\n",
        "\n",
        "# Assuming your DataFrame is named df\n",
        "df_encoded = df.copy()  # Create a copy to avoid modifying the original DataFrame\n",
        "\n",
        "# Initialize LabelEncoder\n",
        "label_encoder = LabelEncoder()\n",
        "\n",
        "# Iterate through columns and apply label encoding\n",
        "for column in df_encoded.columns:\n",
        "    if df_encoded[column].dtype.name == 'category':\n",
        "        df_encoded[column] = label_encoder.fit_transform(df_encoded[column])"
      ]
    },
    {
      "cell_type": "code",
      "execution_count": 10,
      "metadata": {
        "colab": {
          "base_uri": "https://localhost:8080/"
        },
        "id": "k9CPuAW2Fmq7",
        "outputId": "e361ecd7-2664-4207-a402-6351d3a11a0d"
      },
      "outputs": [
        {
          "output_type": "stream",
          "name": "stdout",
          "text": [
            "{'Artificial land': 0, 'Bareland': 1, 'Cropland': 2, 'Grassland': 3, 'Shrubland': 4, 'Water': 5, 'Wetlands': 6, 'Woodland': 7}\n"
          ]
        }
      ],
      "source": [
        "label_encoder.fit(df[target])\n",
        "le_name_mapping = dict(zip(label_encoder.classes_, label_encoder.transform(label_encoder.classes_)))\n",
        "print(le_name_mapping)"
      ]
    },
    {
      "cell_type": "code",
      "execution_count": 11,
      "metadata": {
        "id": "jDOdPE1IPjlS"
      },
      "outputs": [],
      "source": [
        "# List of columns to drop\n",
        "columns_to_drop = ['OC_(20-30_cm)', 'CaCO3_(20-30_cm)', 'Ox_Al', 'Ox_Fe']\n",
        "\n",
        "# Dropping the specified columns\n",
        "df_encoded = df_encoded.drop(columns=columns_to_drop)"
      ]
    },
    {
      "cell_type": "code",
      "execution_count": 12,
      "metadata": {
        "id": "MGH9vHHyNqWM"
      },
      "outputs": [],
      "source": [
        "import numpy as np\n",
        "\n",
        "# Assuming df_encoded is your DataFrame\n",
        "# Replace NaN values with 0 in the 'P' column\n",
        "df_encoded['P'] = df_encoded['P'].replace(np.nan, 0).astype(float)"
      ]
    },
    {
      "cell_type": "code",
      "execution_count": 13,
      "metadata": {
        "id": "5XUYsDv1XNug"
      },
      "outputs": [],
      "source": [
        "df_encoded['CaCO3'] = df_encoded['CaCO3'].replace(np.nan, 0).astype(float)"
      ]
    },
    {
      "cell_type": "code",
      "execution_count": 14,
      "metadata": {
        "colab": {
          "base_uri": "https://localhost:8080/"
        },
        "id": "D0xLa-9uFmq9",
        "outputId": "66dc6f0a-fd75-4113-90a0-0591c0c167f8"
      },
      "outputs": [
        {
          "output_type": "stream",
          "name": "stdout",
          "text": [
            "(18984, 23)\n",
            "(18900, 23)\n"
          ]
        }
      ],
      "source": [
        "print(df_encoded.shape)\n",
        "df_encoded=df_encoded.dropna()\n",
        "print(df_encoded.shape)"
      ]
    },
    {
      "cell_type": "code",
      "execution_count": 15,
      "metadata": {
        "colab": {
          "base_uri": "https://localhost:8080/"
        },
        "id": "0q3tjjatFmq9",
        "outputId": "12df82d5-5ba6-43d7-a032-9256f01f5a67"
      },
      "outputs": [
        {
          "output_type": "stream",
          "name": "stdout",
          "text": [
            "Depth                  object\n",
            "POINTID                 int64\n",
            "pH_CaCl2              float64\n",
            "pH_H2O                float64\n",
            "EC                    float64\n",
            "OC                    float64\n",
            "CaCO3                 float64\n",
            "P                     float64\n",
            "N                     float64\n",
            "K                     float64\n",
            "NUTS_0                  int64\n",
            "NUTS_1                  int64\n",
            "NUTS_2                  int64\n",
            "NUTS_3                  int64\n",
            "TH_LAT                float64\n",
            "TH_LONG               float64\n",
            "SURVEY_DATE    datetime64[ns]\n",
            "Elev                    int64\n",
            "LC                      int64\n",
            "LU                      int64\n",
            "LC0_Desc              float64\n",
            "LC1_Desc                int64\n",
            "LU1_Desc                int64\n",
            "dtype: object\n"
          ]
        }
      ],
      "source": [
        "df_encoded['LC0_Desc']=df_encoded['LC0_Desc'].astype(float)\n",
        "print(df_encoded.dtypes)"
      ]
    },
    {
      "cell_type": "code",
      "source": [],
      "metadata": {
        "id": "HcYpf9Y3WjtC"
      },
      "execution_count": 15,
      "outputs": []
    },
    {
      "cell_type": "code",
      "execution_count": 25,
      "metadata": {
        "colab": {
          "base_uri": "https://localhost:8080/"
        },
        "id": "XZuBrG9hnQwA",
        "outputId": "031aa52a-5866-4623-bb70-ff6463cebd71"
      },
      "outputs": [
        {
          "output_type": "stream",
          "name": "stdout",
          "text": [
            "Accuracy: 0.9484996628455833\n",
            "\n",
            "Classification Report:\n",
            "               precision    recall  f1-score   support\n",
            "\n",
            "         0.0       1.00      1.00      1.00      1474\n",
            "         1.0       0.99      1.00      0.99      1520\n",
            "         2.0       0.87      0.84      0.85      1531\n",
            "         3.0       0.81      0.87      0.84      1453\n",
            "         4.0       0.98      1.00      0.99      1492\n",
            "         5.0       1.00      1.00      1.00      1465\n",
            "         6.0       1.00      1.00      1.00      1505\n",
            "         7.0       0.94      0.88      0.91      1424\n",
            "\n",
            "    accuracy                           0.95     11864\n",
            "   macro avg       0.95      0.95      0.95     11864\n",
            "weighted avg       0.95      0.95      0.95     11864\n",
            "\n"
          ]
        }
      ],
      "source": [
        "from sklearn.model_selection import train_test_split\n",
        "from sklearn.ensemble import RandomForestClassifier\n",
        "from sklearn.metrics import accuracy_score, classification_report\n",
        "from sklearn.preprocessing import StandardScaler\n",
        "from imblearn.over_sampling import RandomOverSampler\n",
        "from sklearn.pipeline import Pipeline\n",
        "\n",
        "# Feature selection\n",
        "features = ['pH_CaCl2', 'pH_H2O', 'EC', 'OC', 'CaCO3', 'P', 'N', 'K']\n",
        "X = df_encoded[features]\n",
        "y = df_encoded[target]\n",
        "\n",
        "# Address class imbalance using oversampling\n",
        "oversampler = RandomOverSampler()\n",
        "X_resampled, y_resampled = oversampler.fit_resample(X, y)\n",
        "\n",
        "# Splitting the data into training and testing sets\n",
        "X_train, X_test, y_train, y_test = train_test_split(X_resampled, y_resampled, test_size=0.2, random_state=42)\n",
        "\n",
        "# Initializing RandomForest classifier with manually adjusted parameters\n",
        "rf_classifier = RandomForestClassifier(\n",
        "    n_estimators=60,  # Adjust the number of trees\n",
        "    max_depth=None,    # Adjust the maximum depth of the trees\n",
        "    min_samples_split=2,  # Adjust the minimum number of samples required to split an internal node\n",
        "    min_samples_leaf=1   # Adjust the minimum number of samples required to be at a leaf node\n",
        ")\n",
        "\n",
        "# Creating a pipeline with scaling and the classifier\n",
        "pipe = Pipeline([\n",
        "    ('scaler', StandardScaler()),\n",
        "    ('classifier', rf_classifier)\n",
        "])\n",
        "\n",
        "# Fitting the model\n",
        "pipe.fit(X_train, y_train)\n",
        "\n",
        "# Making predictions on the test set\n",
        "predictions = pipe.predict(X_test)\n",
        "\n",
        "# Evaluating the model\n",
        "accuracy = accuracy_score(y_test, predictions)\n",
        "print(f'Accuracy: {accuracy}')\n",
        "print('\\nClassification Report:\\n', classification_report(y_test, predictions))\n"
      ]
    },
    {
      "cell_type": "code",
      "source": [
        "from sklearn.tree import plot_tree\n",
        "import matplotlib.pyplot as plt\n",
        "import numpy as np\n",
        "import seaborn as sns\n",
        "# Access the decision tree from the RandomForestClassifier\n",
        "# Note: If you used a specific index for the tree you want to visualize, provide it as tree_index parameter\n",
        "decision_tree = pipe.named_steps['classifier'].estimators_[0]\n",
        "\n",
        "# Get unique classes from your target variable\n",
        "unique_classes = np.unique(y_train)\n",
        "\n",
        "# Visualize the decision tree\n",
        "#plt.figure(figsize=(20, 10))\n",
        "#plot_tree(decision_tree, feature_names=features, class_names=[str(cls) for cls in unique_classes], filled=True, rounded=True)\n",
        "#plt.show()\n",
        "\n",
        "# Access feature importances from the RandomForestClassifier\n",
        "feature_importances = pipe.named_steps['classifier'].feature_importances_\n",
        "\n",
        "# Visualize feature importances\n",
        "plt.figure(figsize=(10, 6))\n",
        "sns.barplot(x=feature_importances, y=features, palette='viridis')\n",
        "plt.xlabel('Feature Importance')\n",
        "plt.ylabel('Features')\n",
        "plt.title('Random Forest Feature Importance')\n",
        "plt.show()\n"
      ],
      "metadata": {
        "colab": {
          "base_uri": "https://localhost:8080/",
          "height": 564
        },
        "id": "IUGJHzSmbd_N",
        "outputId": "a98c6e21-d0ac-44db-d0fa-3b49f4c31125"
      },
      "execution_count": 26,
      "outputs": [
        {
          "output_type": "display_data",
          "data": {
            "text/plain": [
              "<Figure size 1000x600 with 1 Axes>"
            ],
            "image/png": "[encoded data removed]"
          },
          "metadata": {}
        }
      ]
    },
    {
      "cell_type": "code",
      "execution_count": 27,
      "metadata": {
        "id": "B8huVbeUoR1H"
      },
      "outputs": [],
      "source": [
        "#saving the built model\n",
        "#model.save_model(f'{target}.model')\n",
        "\n",
        "# import joblib\n",
        "# joblib.dump(pipe,f'{target}.joblib')\n"
      ]
    },
    {
      "cell_type": "code",
      "source": [],
      "metadata": {
        "id": "m0tGouNsduqs"
      },
      "execution_count": 27,
      "outputs": []
    },
    {
      "cell_type": "code",
      "execution_count": 28,
      "metadata": {
        "id": "welgUyuGdNFQ"
      },
      "outputs": [],
      "source": [
        "from skl2onnx import convert_sklearn\n",
        "from skl2onnx.common.data_types import FloatTensorType, Int64TensorType\n",
        "from skl2onnx import to_onnx\n",
        "\n",
        "# Disable zipmap as it is not supported in BigQuery ML.\n",
        "options = {id(pipe): {'zipmap': False}}\n",
        "\n",
        "initial_types = [\n",
        "   ('pH_CaCl2', FloatTensorType([None, 1])),\n",
        "   ('pH_H2O', FloatTensorType([None, 1])),\n",
        "   ('EC', FloatTensorType([None, 1])),\n",
        "   ('OC', FloatTensorType([None, 1])),\n",
        "   ('CaCO3', FloatTensorType([None, 1])),\n",
        "   ('P', FloatTensorType([None, 1])),\n",
        "   ('N', FloatTensorType([None, 1])),\n",
        "   ('K', FloatTensorType([None, 1])),\n",
        "]\n",
        "\n",
        "# Convert the model.\n",
        "model_onnx = convert_sklearn(\n",
        "   pipe, 'pipeline_rf', initial_types=initial_types, options=options\n",
        ")\n",
        "onnxFileName = f'{target}_ONNX.onnx'\n",
        "onnxCompressedFileName = f'{target}_ONNX.zip'\n",
        "with open(onnxFileName, \"wb\") as f:\n",
        "    f.write(model_onnx.SerializeToString())"
      ]
    },
    {
      "cell_type": "code",
      "execution_count": 29,
      "metadata": {
        "id": "pSP3ZCZ7Fmq_"
      },
      "outputs": [],
      "source": [
        "from zipfile import *\n",
        "with open(onnxFileName, \"wb\") as f:\n",
        "    f.write(model_onnx.SerializeToString())\n",
        "ZipFile(onnxCompressedFileName, \"w\", ZIP_DEFLATED).write(onnxFileName)"
      ]
    },
    {
      "cell_type": "code",
      "source": [],
      "metadata": {
        "id": "t8eoXYF9fXbN"
      },
      "execution_count": null,
      "outputs": []
    }
  ],
  "metadata": {
    "colab": {
      "provenance": []
    },
    "kernelspec": {
      "display_name": ".venv",
      "language": "python",
      "name": "python3"
    },
    "language_info": {
      "codemirror_mode": {
        "name": "ipython",
        "version": 3
      },
      "file_extension": ".py",
      "mimetype": "text/x-python",
      "name": "python",
      "nbconvert_exporter": "python",
      "pygments_lexer": "ipython3",
      "version": "3.11.1"
    }
  },
  "nbformat": 4,
  "nbformat_minor": 0
}