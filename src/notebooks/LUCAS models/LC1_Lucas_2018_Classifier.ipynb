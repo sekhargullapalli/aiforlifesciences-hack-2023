{
  "cells": [
    {
      "cell_type": "code",
      "execution_count": 1,
      "metadata": {
        "id": "HYaRSQJTeFFq"
      },
      "outputs": [],
      "source": [
        "import pandas as pd\n",
        "import numpy as np\n",
        "import matplotlib.pyplot as plt"
      ]
    },
    {
      "cell_type": "code",
      "source": [
        "#!pip install skl2onnx"
      ],
      "metadata": {
        "id": "A0Zui9T6FqX1"
      },
      "execution_count": 4,
      "outputs": []
    },
    {
      "cell_type": "code",
      "source": [
        "from google.colab import drive\n",
        "drive.mount('/content/drive')"
      ],
      "metadata": {
        "colab": {
          "base_uri": "https://localhost:8080/"
        },
        "id": "igZ2e1GdFtVy",
        "outputId": "47b5ea6c-d186-4215-8a89-cb7a0d876d0a"
      },
      "execution_count": 5,
      "outputs": [
        {
          "output_type": "stream",
          "name": "stdout",
          "text": [
            "Drive already mounted at /content/drive; to attempt to forcibly remount, call drive.mount(\"/content/drive\", force_remount=True).\n"
          ]
        }
      ]
    },
    {
      "cell_type": "code",
      "execution_count": 6,
      "metadata": {
        "id": "9O8r8rnUeFFu"
      },
      "outputs": [],
      "source": [
        "df=pd.read_excel('/content/drive/MyDrive/AI4LS_Data/LUCAS-SOIL-2018.xls')\n",
        "target = 'LC1_Desc'"
      ]
    },
    {
      "cell_type": "code",
      "execution_count": 7,
      "metadata": {
        "colab": {
          "base_uri": "https://localhost:8080/"
        },
        "id": "1OEIv_O7eFFv",
        "outputId": "c6a3a483-41fe-4d3d-d9bd-1fba6c52fce6"
      },
      "outputs": [
        {
          "output_type": "execute_result",
          "data": {
            "text/plain": [
              "(18984, 27)"
            ]
          },
          "metadata": {},
          "execution_count": 7
        }
      ],
      "source": [
        "#First filter the points only for Sweden\n",
        "#df = df[df['NUTS_0']=='SE']\n",
        "df.shape"
      ]
    },
    {
      "cell_type": "code",
      "execution_count": 8,
      "metadata": {
        "id": "9GA7wi4geFFx"
      },
      "outputs": [],
      "source": [
        "for col in ['P', 'N', 'K']:\n",
        "    df.loc[df[col]=='< LOD', col] = np.nan\n",
        "    df.loc[df[col]=='<0.0', col] = np.nan\n",
        "    df[col]=df[col].astype(float)\n",
        "for col in ['OC','CaCO3','OC (20-30 cm)','CaCO3 (20-30 cm)']:\n",
        "    df.loc[df[col]=='< LOD', col] = np.nan\n",
        "    df.loc[df[col]=='<  LOD', col] = np.nan\n",
        "    df.loc[df[col]=='<0.0', col] = np.nan\n",
        "    df[col]=df[col].astype(float)\n",
        "\n",
        "for col in ['NUTS_0','NUTS_1','NUTS_2','NUTS_3','LC','LU','LC0_Desc','LC1_Desc','LU1_Desc']:\n",
        "    df[col]=df[col].astype('category')\n",
        "cols = df.columns\n",
        "for c in cols:\n",
        "    if df[c].dtype == 'object':\n",
        "        df[c] = df[c].str.strip()"
      ]
    },
    {
      "cell_type": "code",
      "execution_count": 9,
      "metadata": {
        "id": "wxkKga7qeFF0"
      },
      "outputs": [],
      "source": [
        "df['SURVEY_DATE']=pd.to_datetime(df['SURVEY_DATE'], format='%d/%m/%y')"
      ]
    },
    {
      "cell_type": "code",
      "execution_count": 10,
      "metadata": {
        "id": "BQ3F2MjxeFF1"
      },
      "outputs": [],
      "source": [
        "cols = df.columns.tolist()\n",
        "for index, c in enumerate(cols):\n",
        "    cols[index] = c.replace(' ', '_')\n",
        "df.columns = cols"
      ]
    },
    {
      "cell_type": "code",
      "execution_count": 11,
      "metadata": {
        "id": "PBFkvCu_mhTU"
      },
      "outputs": [],
      "source": [
        "from sklearn.preprocessing import LabelEncoder\n",
        "\n",
        "# Assuming your DataFrame is named df\n",
        "df_encoded = df.copy()  # Create a copy to avoid modifying the original DataFrame\n",
        "\n",
        "# Initialize LabelEncoder\n",
        "label_encoder = LabelEncoder()\n",
        "\n",
        "# Iterate through columns and apply label encoding\n",
        "for column in df_encoded.columns:\n",
        "    if df_encoded[column].dtype.name == 'category':\n",
        "        df_encoded[column] = label_encoder.fit_transform(df_encoded[column])"
      ]
    },
    {
      "cell_type": "code",
      "execution_count": 12,
      "metadata": {
        "colab": {
          "base_uri": "https://localhost:8080/"
        },
        "id": "k9CPuAW2Fmq7",
        "outputId": "2a7ba65e-dde2-40f7-df99-20d85b2eb5f9"
      },
      "outputs": [
        {
          "output_type": "stream",
          "name": "stdout",
          "text": [
            "{'Apple fruit': 0, 'Arable land (only PI)': 1, 'Barley': 2, 'Broadleaved woodland': 3, 'Cherry fruit': 4, 'Clovers': 5, 'Common wheat': 6, 'Cotton': 7, 'Dry pulses': 8, 'Durum wheat': 9, 'Floriculture and ornamental plants': 10, 'Grassland with sparse tree/shrub cover': 11, 'Grassland without tree/shrub cover': 12, 'Inland fresh running water': 13, 'Inland marshes': 14, 'Inland salty water bodies': 15, 'Lichens and Moss': 16, 'Lucerne': 17, 'Maize': 18, 'Mix of cereals': 19, 'Non built-up area features': 20, 'Non built-up linear features': 21, 'Nurseries': 22, 'Nuts trees': 23, 'Oats': 24, 'Olive groves': 25, 'Oranges': 26, 'Other Leguminous  and mixtures for fodder': 27, 'Other artificial areas': 28, 'Other bare soil': 29, 'Other cereals': 30, 'Other citrus fruit': 31, 'Other coniferous woodland': 32, 'Other fibre and oleaginous crops': 33, 'Other fresh vegetables': 34, 'Other fruit trees and berries': 35, 'Other mixed woodland': 36, 'Other non-permanent industrial crops': 37, 'Other root crops': 38, 'Pear fruit': 39, 'Peatbogs': 40, 'Permanent industrial crops': 41, 'Pine dominated coniferous woodland': 42, 'Pine dominated mixed woodland': 43, 'Potatoes': 44, 'Rape and turnip rape': 45, 'Rice': 46, 'Rocks and stones': 47, 'Rye': 48, 'Salines': 49, 'Sand': 50, 'Shrubland with sparse tree cover': 51, 'Shrubland without tree cover': 52, 'Soya': 53, 'Spontaneously re-vegetated surfaces': 54, 'Spruce dominated coniferous woodland': 55, 'Spruce dominated mixed woodland': 56, 'Strawberries': 57, 'Sugar beet': 58, 'Sunflower': 59, 'Temporary grassland': 60, 'Tobacco': 61, 'Tomatoes': 62, 'Triticale': 63, 'Vineyards': 64}\n"
          ]
        }
      ],
      "source": [
        "label_encoder.fit(df[target])\n",
        "le_name_mapping = dict(zip(label_encoder.classes_, label_encoder.transform(label_encoder.classes_)))\n",
        "print(le_name_mapping)"
      ]
    },
    {
      "cell_type": "code",
      "execution_count": 13,
      "metadata": {
        "id": "jDOdPE1IPjlS"
      },
      "outputs": [],
      "source": [
        "# List of columns to drop\n",
        "columns_to_drop = ['OC_(20-30_cm)', 'CaCO3_(20-30_cm)', 'Ox_Al', 'Ox_Fe']\n",
        "\n",
        "# Dropping the specified columns\n",
        "df_encoded = df_encoded.drop(columns=columns_to_drop)"
      ]
    },
    {
      "cell_type": "code",
      "execution_count": 14,
      "metadata": {
        "id": "MGH9vHHyNqWM"
      },
      "outputs": [],
      "source": [
        "import numpy as np\n",
        "\n",
        "# Assuming df_encoded is your DataFrame\n",
        "# Replace NaN values with 0 in the 'P' column\n",
        "df_encoded['P'] = df_encoded['P'].replace(np.nan, 0).astype(float)"
      ]
    },
    {
      "cell_type": "code",
      "execution_count": 15,
      "metadata": {
        "id": "5XUYsDv1XNug"
      },
      "outputs": [],
      "source": [
        "df_encoded['CaCO3'] = df_encoded['CaCO3'].replace(np.nan, 0).astype(float)"
      ]
    },
    {
      "cell_type": "code",
      "execution_count": 16,
      "metadata": {
        "colab": {
          "base_uri": "https://localhost:8080/"
        },
        "id": "D0xLa-9uFmq9",
        "outputId": "ff017244-48f2-4140-a0a3-a140fbaa60fd"
      },
      "outputs": [
        {
          "output_type": "stream",
          "name": "stdout",
          "text": [
            "(18984, 23)\n",
            "(18900, 23)\n"
          ]
        }
      ],
      "source": [
        "print(df_encoded.shape)\n",
        "df_encoded=df_encoded.dropna()\n",
        "print(df_encoded.shape)"
      ]
    },
    {
      "cell_type": "code",
      "execution_count": 17,
      "metadata": {
        "colab": {
          "base_uri": "https://localhost:8080/"
        },
        "id": "0q3tjjatFmq9",
        "outputId": "69d27395-12e0-432a-ccf3-151620eef0c4"
      },
      "outputs": [
        {
          "output_type": "stream",
          "name": "stdout",
          "text": [
            "Depth                  object\n",
            "POINTID                 int64\n",
            "pH_CaCl2              float64\n",
            "pH_H2O                float64\n",
            "EC                    float64\n",
            "OC                    float64\n",
            "CaCO3                 float64\n",
            "P                     float64\n",
            "N                     float64\n",
            "K                     float64\n",
            "NUTS_0                  int64\n",
            "NUTS_1                  int64\n",
            "NUTS_2                  int64\n",
            "NUTS_3                  int64\n",
            "TH_LAT                float64\n",
            "TH_LONG               float64\n",
            "SURVEY_DATE    datetime64[ns]\n",
            "Elev                    int64\n",
            "LC                      int64\n",
            "LU                      int64\n",
            "LC0_Desc              float64\n",
            "LC1_Desc                int64\n",
            "LU1_Desc                int64\n",
            "dtype: object\n"
          ]
        }
      ],
      "source": [
        "df_encoded['LC0_Desc']=df_encoded['LC0_Desc'].astype(float)\n",
        "print(df_encoded.dtypes)"
      ]
    },
    {
      "cell_type": "code",
      "source": [],
      "metadata": {
        "id": "HcYpf9Y3WjtC"
      },
      "execution_count": 17,
      "outputs": []
    },
    {
      "cell_type": "code",
      "execution_count": 18,
      "metadata": {
        "colab": {
          "base_uri": "https://localhost:8080/"
        },
        "id": "XZuBrG9hnQwA",
        "outputId": "bf2458e4-ef2a-469f-cfeb-e3ef52fa5750"
      },
      "outputs": [
        {
          "output_type": "stream",
          "name": "stdout",
          "text": [
            "Accuracy: 0.9866126091807026\n",
            "\n",
            "Classification Report:\n",
            "               precision    recall  f1-score   support\n",
            "\n",
            "           0       1.00      1.00      1.00       538\n",
            "           1       1.00      1.00      1.00       530\n",
            "           2       0.92      0.92      0.92       566\n",
            "           3       0.94      0.84      0.89       573\n",
            "           4       1.00      1.00      1.00       592\n",
            "           5       1.00      1.00      1.00       604\n",
            "           6       0.94      0.80      0.87       557\n",
            "           7       1.00      1.00      1.00       569\n",
            "           8       1.00      1.00      1.00       532\n",
            "           9       0.99      1.00      1.00       580\n",
            "          10       1.00      1.00      1.00       574\n",
            "          11       0.95      1.00      0.97       553\n",
            "          12       0.97      0.82      0.89       532\n",
            "          13       1.00      1.00      1.00       549\n",
            "          14       1.00      1.00      1.00       562\n",
            "          15       1.00      1.00      1.00       573\n",
            "          16       1.00      1.00      1.00       558\n",
            "          17       0.98      1.00      0.99       603\n",
            "          18       0.95      0.95      0.95       598\n",
            "          19       1.00      1.00      1.00       536\n",
            "          20       1.00      1.00      1.00       590\n",
            "          21       1.00      1.00      1.00       564\n",
            "          22       1.00      1.00      1.00       614\n",
            "          23       1.00      1.00      1.00       575\n",
            "          24       0.99      1.00      1.00       563\n",
            "          25       0.98      1.00      0.99       532\n",
            "          26       1.00      1.00      1.00       561\n",
            "          27       0.99      1.00      1.00       574\n",
            "          28       1.00      1.00      1.00       548\n",
            "          29       1.00      1.00      1.00       585\n",
            "          30       1.00      1.00      1.00       556\n",
            "          31       1.00      1.00      1.00       555\n",
            "          32       0.99      1.00      1.00       525\n",
            "          33       1.00      1.00      1.00       523\n",
            "          34       1.00      1.00      1.00       534\n",
            "          35       1.00      1.00      1.00       561\n",
            "          36       0.99      1.00      0.99       582\n",
            "          37       1.00      1.00      1.00       536\n",
            "          38       1.00      1.00      1.00       608\n",
            "          39       1.00      1.00      1.00       581\n",
            "          40       1.00      1.00      1.00       559\n",
            "          41       1.00      1.00      1.00       547\n",
            "          42       0.92      0.90      0.91       557\n",
            "          43       0.96      0.99      0.97       571\n",
            "          44       0.99      1.00      1.00       581\n",
            "          45       0.98      1.00      0.99       554\n",
            "          46       1.00      1.00      1.00       549\n",
            "          47       1.00      1.00      1.00       588\n",
            "          48       0.99      1.00      0.99       553\n",
            "          49       1.00      1.00      1.00       533\n",
            "          50       1.00      1.00      1.00       586\n",
            "          51       0.99      1.00      1.00       596\n",
            "          52       1.00      0.99      1.00       610\n",
            "          53       1.00      1.00      1.00       569\n",
            "          54       0.90      0.98      0.94       574\n",
            "          55       0.92      0.97      0.94       546\n",
            "          56       0.95      0.97      0.96       612\n",
            "          57       1.00      1.00      1.00       600\n",
            "          58       1.00      1.00      1.00       580\n",
            "          59       0.99      1.00      1.00       571\n",
            "          60       0.98      1.00      0.99       550\n",
            "          61       1.00      1.00      1.00       541\n",
            "          62       1.00      1.00      1.00       580\n",
            "          63       1.00      1.00      1.00       539\n",
            "          64       0.99      1.00      0.99       559\n",
            "\n",
            "    accuracy                           0.99     36751\n",
            "   macro avg       0.99      0.99      0.99     36751\n",
            "weighted avg       0.99      0.99      0.99     36751\n",
            "\n"
          ]
        }
      ],
      "source": [
        "from sklearn.model_selection import train_test_split\n",
        "from sklearn.ensemble import RandomForestClassifier\n",
        "from sklearn.metrics import accuracy_score, classification_report\n",
        "from sklearn.preprocessing import StandardScaler\n",
        "from imblearn.over_sampling import RandomOverSampler\n",
        "from sklearn.pipeline import Pipeline\n",
        "\n",
        "# Feature selection\n",
        "features = ['pH_CaCl2', 'pH_H2O', 'EC', 'OC', 'CaCO3', 'P', 'N', 'K', 'LC0_Desc']\n",
        "X = df_encoded[features]\n",
        "y = df_encoded[target]\n",
        "\n",
        "# Address class imbalance using oversampling\n",
        "oversampler = RandomOverSampler()\n",
        "X_resampled, y_resampled = oversampler.fit_resample(X, y)\n",
        "\n",
        "# Splitting the data into training and testing sets\n",
        "X_train, X_test, y_train, y_test = train_test_split(X_resampled, y_resampled, test_size=0.2, random_state=42)\n",
        "\n",
        "# Initializing RandomForest classifier with manually adjusted parameters\n",
        "rf_classifier = RandomForestClassifier(\n",
        "    n_estimators=50,  # Adjust the number of trees\n",
        "    max_depth=None,    # Adjust the maximum depth of the trees\n",
        "    min_samples_split=2,  # Adjust the minimum number of samples required to split an internal node\n",
        "    min_samples_leaf=1   # Adjust the minimum number of samples required to be at a leaf node\n",
        ")\n",
        "\n",
        "# Creating a pipeline with scaling and the classifier\n",
        "pipe = Pipeline([\n",
        "    ('scaler', StandardScaler()),\n",
        "    ('classifier', rf_classifier)\n",
        "])\n",
        "\n",
        "# Fitting the model\n",
        "pipe.fit(X_train, y_train)\n",
        "\n",
        "# Making predictions on the test set\n",
        "predictions = pipe.predict(X_test)\n",
        "\n",
        "# Evaluating the model\n",
        "accuracy = accuracy_score(y_test, predictions)\n",
        "print(f'Accuracy: {accuracy}')\n",
        "print('\\nClassification Report:\\n', classification_report(y_test, predictions))\n"
      ]
    },
    {
      "cell_type": "code",
      "source": [
        "from sklearn.tree import plot_tree\n",
        "import matplotlib.pyplot as plt\n",
        "import numpy as np\n",
        "import seaborn as sns\n",
        "# Access the decision tree from the RandomForestClassifier\n",
        "# Note: If you used a specific index for the tree you want to visualize, provide it as tree_index parameter\n",
        "decision_tree = pipe.named_steps['classifier'].estimators_[0]\n",
        "\n",
        "# Get unique classes from your target variable\n",
        "unique_classes = np.unique(y_train)\n",
        "\n",
        "# Visualize the decision tree\n",
        "#plt.figure(figsize=(20, 10))\n",
        "#plot_tree(decision_tree, feature_names=features, class_names=[str(cls) for cls in unique_classes], filled=True, rounded=True)\n",
        "#plt.show()\n",
        "\n",
        "# Access feature importances from the RandomForestClassifier\n",
        "feature_importances = pipe.named_steps['classifier'].feature_importances_\n",
        "\n",
        "# Visualize feature importances\n",
        "plt.figure(figsize=(10, 6))\n",
        "sns.barplot(x=feature_importances, y=features, palette='viridis')\n",
        "plt.xlabel('Feature Importance')\n",
        "plt.ylabel('Features')\n",
        "plt.title('Random Forest Feature Importance')\n",
        "plt.show()\n"
      ],
      "metadata": {
        "colab": {
          "base_uri": "https://localhost:8080/",
          "height": 564
        },
        "id": "IUGJHzSmbd_N",
        "outputId": "e00f7b32-e20f-437e-a52a-db86cd8aa1bb"
      },
      "execution_count": 19,
      "outputs": [
        {
          "output_type": "display_data",
          "data": {
            "text/plain": [
              "<Figure size 1000x600 with 1 Axes>"
            ],
            "image/png": "[encoded data removed]"
          },
          "metadata": {}
        }
      ]
    },
    {
      "cell_type": "code",
      "execution_count": 20,
      "metadata": {
        "id": "B8huVbeUoR1H"
      },
      "outputs": [],
      "source": [
        "#saving the built model\n",
        "#model.save_model(f'{target}.model')\n",
        "\n",
        "# import joblib\n",
        "# joblib.dump(pipe,f'{target}.joblib')\n"
      ]
    },
    {
      "cell_type": "code",
      "source": [
        "#!pip install skl2onnx"
      ],
      "metadata": {
        "id": "m0tGouNsduqs"
      },
      "execution_count": 21,
      "outputs": []
    },
    {
      "cell_type": "code",
      "execution_count": 22,
      "metadata": {
        "id": "welgUyuGdNFQ"
      },
      "outputs": [],
      "source": [
        "from skl2onnx import convert_sklearn\n",
        "from skl2onnx.common.data_types import FloatTensorType, Int64TensorType\n",
        "from skl2onnx import to_onnx\n",
        "\n",
        "# Disable zipmap as it is not supported in BigQuery ML.\n",
        "options = {id(pipe): {'zipmap': False}}\n",
        "\n",
        "initial_types = [\n",
        "   ('pH_CaCl2', FloatTensorType([None, 1])),\n",
        "   ('pH_H2O', FloatTensorType([None, 1])),\n",
        "   ('EC', FloatTensorType([None, 1])),\n",
        "   ('OC', FloatTensorType([None, 1])),\n",
        "   ('CaCO3', FloatTensorType([None, 1])),\n",
        "   ('P', FloatTensorType([None, 1])),\n",
        "   ('N', FloatTensorType([None, 1])),\n",
        "   ('K', FloatTensorType([None, 1])),\n",
        "   ('LC0_Desc', FloatTensorType([None, 1]))\n",
        "]\n",
        "\n",
        "# Convert the model.\n",
        "model_onnx = convert_sklearn(\n",
        "   pipe, 'pipeline_rf', initial_types=initial_types, options=options\n",
        ")\n",
        "onnxFileName = f'{target}_ONNX.onnx'\n",
        "onnxCompressedFileName = f'{target}_ONNX.zip'\n",
        "with open(onnxFileName, \"wb\") as f:\n",
        "    f.write(model_onnx.SerializeToString())"
      ]
    },
    {
      "cell_type": "code",
      "execution_count": 23,
      "metadata": {
        "id": "pSP3ZCZ7Fmq_"
      },
      "outputs": [],
      "source": [
        "from zipfile import *\n",
        "with open(onnxFileName, \"wb\") as f:\n",
        "    f.write(model_onnx.SerializeToString())\n",
        "ZipFile(onnxCompressedFileName, \"w\", ZIP_DEFLATED).write(onnxFileName)"
      ]
    },
    {
      "cell_type": "code",
      "source": [],
      "metadata": {
        "id": "t8eoXYF9fXbN"
      },
      "execution_count": 23,
      "outputs": []
    }
  ],
  "metadata": {
    "colab": {
      "provenance": []
    },
    "kernelspec": {
      "display_name": ".venv",
      "language": "python",
      "name": "python3"
    },
    "language_info": {
      "codemirror_mode": {
        "name": "ipython",
        "version": 3
      },
      "file_extension": ".py",
      "mimetype": "text/x-python",
      "name": "python",
      "nbconvert_exporter": "python",
      "pygments_lexer": "ipython3",
      "version": "3.11.1"
    }
  },
  "nbformat": 4,
  "nbformat_minor": 0
}